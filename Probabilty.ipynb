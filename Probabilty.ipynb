{
 "cells": [
  {
   "cell_type": "markdown",
   "id": "corporate-check",
   "metadata": {},
   "source": [
    "# **Probability**"
   ]
  },
  {
   "cell_type": "markdown",
   "id": "intimate-quality",
   "metadata": {},
   "source": [
    "## **Sample Spaces**"
   ]
  },
  {
   "cell_type": "markdown",
   "id": "worthy-volume",
   "metadata": {},
   "source": [
    "A sample space represents the set of all possible outcomes or results of an experiment, usually denoted using set notation, is common to refer to a sample space by the lables $S$, $\\Omega$ or $U$ "
   ]
  },
  {
   "cell_type": "markdown",
   "id": "spoken-methodology",
   "metadata": {},
   "source": [
    "The probability of an event A, $P(A)$ satisfies the following properties (Axioms)\n",
    "\n",
    "- $0 \\le P(A) \\le 1$ for any A\n",
    "- $P(\\Omega) = 1$\n",
    "- if $A_1$, $A_2$, ... are disjoint then \n",
    "   $P(\\bigcup_\\limits{i=1}^\\infty A_i) = \\sum_\\limits{i=1}^{\\infty} P(A_i)$"
   ]
  },
  {
   "cell_type": "markdown",
   "id": "sharing-cathedral",
   "metadata": {},
   "source": [
    "Disjoint and independent events are different. Disjoint events never occcur at the same time ie are mutually exclusive, independent events are unrelated.\n"
   ]
  },
  {
   "cell_type": "markdown",
   "id": "intellectual-hollywood",
   "metadata": {},
   "source": [
    "Properties of $P$ \n",
    "\n",
    "- $P(\\emptyset) = 0$\n",
    "- $A \\subset B \\Rightarrow P(A) \\le P(B)$\n",
    "- $0 \\le P(A) \\le 1$ \n",
    "- $P(A^c) = 1 - P(A)$\n",
    "- $A \\cap B = \\emptyset \\Rightarrow P( A \\cup B) = P(A) + P(B) $"
   ]
  },
  {
   "cell_type": "markdown",
   "id": "residential-scholarship",
   "metadata": {},
   "source": [
    "For any events A and B \n",
    "\n",
    "$P(A \\cup B) = P(A) + P(B) - P(AB)$"
   ]
  },
  {
   "cell_type": "code",
   "execution_count": null,
   "id": "earlier-casting",
   "metadata": {},
   "outputs": [],
   "source": []
  },
  {
   "cell_type": "markdown",
   "id": "nutritional-logging",
   "metadata": {},
   "source": [
    "The PDF of the standard normal distribution is defined as\n",
    "\n",
    "$$f_X(\\omega) = \\frac{1}{\\sqrt{2\\pi}} exp^{\\frac{\\omega^2}{2}}$$"
   ]
  },
  {
   "cell_type": "markdown",
   "id": "limited-jacket",
   "metadata": {},
   "source": [
    "and its CDF has no closed-form solution"
   ]
  },
  {
   "cell_type": "code",
   "execution_count": 3,
   "id": "circular-shopper",
   "metadata": {},
   "outputs": [],
   "source": [
    "import matplotlib.pyplot as plt\n",
    "from scipy.stats import norm\n",
    "import numpy as np\n",
    "import math\n",
    "%matplotlib inline  "
   ]
  },
  {
   "cell_type": "code",
   "execution_count": 4,
   "id": "packed-romance",
   "metadata": {},
   "outputs": [],
   "source": [
    "mean = 0\n",
    "variance = 1\n",
    "sigma = math.sqrt(variance)\n",
    "x = np.linspace(-3,3,201)"
   ]
  },
  {
   "cell_type": "code",
   "execution_count": 11,
   "id": "infinite-brunswick",
   "metadata": {},
   "outputs": [
    {
     "data": {
      "image/png": "[encoded data removed]",
      "text/plain": [
       "<Figure size 432x288 with 1 Axes>"
      ]
     },
     "metadata": {
      "needs_background": "light"
     },
     "output_type": "display_data"
    }
   ],
   "source": [
    "plt.plot(x,norm.pdf((x-mean)/sigma), label=\"normal PDF\")\n",
    "plt.plot(x,norm.cdf((x-mean)/sigma), label=\"normal CDF\")\n",
    "plt.legend(bbox_to_anchor=(1,1))\n",
    "plt.show()"
   ]
  },
  {
   "cell_type": "code",
   "execution_count": 18,
   "id": "resident-sphere",
   "metadata": {},
   "outputs": [
    {
     "data": {
      "text/plain": [
       "201"
      ]
     },
     "execution_count": 18,
     "metadata": {},
     "output_type": "execute_result"
    }
   ],
   "source": []
  },
  {
   "cell_type": "code",
   "execution_count": null,
   "id": "independent-aside",
   "metadata": {},
   "outputs": [],
   "source": []
  }
 ],
 "metadata": {
  "kernelspec": {
   "display_name": "Python 3",
   "language": "python",
   "name": "python3"
  },
  "language_info": {
   "codemirror_mode": {
    "name": "ipython",
    "version": 3
   },
   "file_extension": ".py",
   "mimetype": "text/x-python",
   "name": "python",
   "nbconvert_exporter": "python",
   "pygments_lexer": "ipython3",
   "version": "3.9.1"
  }
 },
 "nbformat": 4,
 "nbformat_minor": 5
}
